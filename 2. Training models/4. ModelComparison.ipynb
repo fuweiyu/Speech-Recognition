{
 "cells": [
  {
   "cell_type": "markdown",
   "metadata": {},
   "source": [
    "## Part 0. Package setting\n",
    "The way to do this is to manually check how to install the packages in your environment. \n",
    "this worked on collab but I installed the packages manually in my machine, the porcedure to get them will likely ghe different depending on your environment"
   ]
  },
  {
   "cell_type": "code",
   "execution_count": null,
   "metadata": {
    "id": "xPcbliDiKsAq"
   },
   "outputs": [],
   "source": [
    "#  Install necessary libraries\n",
    "!pip install transformers torch torchaudio pyaudio pydub huggingface_hub librosa soundfile -q"
   ]
  },
  {
   "cell_type": "code",
   "execution_count": 47,
   "metadata": {},
   "outputs": [
    {
     "name": "stdout",
     "output_type": "stream",
     "text": [
      "Defaulting to user installation because normal site-packages is not writeable\n",
      "Collecting yt-dlp\n",
      "  Downloading yt_dlp-2025.5.22-py3-none-any.whl.metadata (174 kB)\n",
      "Downloading yt_dlp-2025.5.22-py3-none-any.whl (3.3 MB)\n",
      "\u001b[2K   \u001b[38;2;114;156;31m━━━━━━━━━━━━━━━━━━━━━━━━━━━━━━━━━━━━━━━━\u001b[0m \u001b[32m3.3/3.3 MB\u001b[0m \u001b[31m25.8 MB/s\u001b[0m eta \u001b[36m0:00:00\u001b[0m\n",
      "\u001b[?25hInstalling collected packages: yt-dlp\n",
      "\u001b[33m  WARNING: The script yt-dlp is installed in '/home/franciscobrizuela/.local/bin' which is not on PATH.\n",
      "  Consider adding this directory to PATH or, if you prefer to suppress this warning, use --no-warn-script-location.\u001b[0m\u001b[33m\n",
      "\u001b[0mSuccessfully installed yt-dlp-2025.5.22\n"
     ]
    }
   ],
   "source": [
    "!pip install yt-dlp sentencepiece -q"
   ]
  },
  {
   "cell_type": "code",
   "execution_count": null,
   "metadata": {
    "id": "UfSwRpnIMZaE"
   },
   "outputs": [],
   "source": [
    "# I seems that some libraries are needed in order to install pyaudio.\n",
    "!apt install libasound2-dev portaudio19-dev libportaudio2 libportaudiocpp0 ffmpeg\n",
    "!pip install PyAudio pydub"
   ]
  },
  {
   "cell_type": "code",
   "execution_count": 9,
   "metadata": {
    "id": "DZSBhqhuK44t"
   },
   "outputs": [],
   "source": [
    "# Import libraries\n",
    "import torch\n",
    "from transformers import WhisperForConditionalGeneration, WhisperProcessor, WhisperFeatureExtractor, WhisperTokenizer\n",
    "import pyaudio\n",
    "import wave\n",
    "import librosa\n",
    "import soundfile as sf\n",
    "from pydub import AudioSegment\n",
    "from IPython.display import Audio\n",
    "import os\n",
    "from scipy.signal import resample"
   ]
  },
  {
   "cell_type": "code",
   "execution_count": 10,
   "metadata": {},
   "outputs": [],
   "source": [
    "# This part seems necessary for later\n",
    "\n",
    "import evaluate\n",
    "from jiwer import cer\n",
    "\n",
    "def down_sample_audio(audio_original, original_sample_rate):\n",
    "    target_sample_rate = 16000\n",
    "\n",
    "    # Calculate the number of samples for the target sample rate\n",
    "    num_samples = int(len(audio_original) * target_sample_rate / original_sample_rate)\n",
    "\n",
    "    # Resample the audio array to the target sample rate\n",
    "    downsampled_audio = resample(audio_original, num_samples)\n",
    "\n",
    "    return downsampled_audio"
   ]
  },
  {
   "cell_type": "markdown",
   "metadata": {
    "id": "wikY7LTtLAEh"
   },
   "source": [
    "## Part 1: Loading model and evaluating"
   ]
  },
  {
   "cell_type": "code",
   "execution_count": 11,
   "metadata": {},
   "outputs": [],
   "source": [
    "# Load every part of the small model separately\n",
    "\n",
    "MODEL_REPO = \"SchindleriaPraematurus/whisper-tiny-gn-finetuned\" # Your repository\n",
    "DEVICE = \"cuda\" if torch.cuda.is_available() else \"cpu\"\n",
    "\n",
    "\n",
    "SMALL_TOKENIZER_COMMIT_HASH = \"6cd67df1b6923465434cee5bb80aadfe7a8d74ab\"  # Commit for \"Upload tokenizer\"\n",
    "SMALL_FEATURE_EXTRACTOR_COMMIT_HASH = \"a7f430d0d46753348597fb241734d341c48fc69b\" # Commit for \"Upload feature_extractor\"\n",
    "SMALL_MODEL_COMMIT_HASH = \"06294d5a001f1f32290e98cf9a4a6006f1fc394a\" # Commit for \"Upload fine-tuned Whisper-small\""
   ]
  },
  {
   "cell_type": "code",
   "execution_count": 23,
   "metadata": {},
   "outputs": [],
   "source": [
    "# Movin to CPU because I ran our of ram LOL (Change this)\n",
    "DEVICE='cpu' "
   ]
  },
  {
   "cell_type": "code",
   "execution_count": 24,
   "metadata": {
    "id": "B13NiPIZK6ty"
   },
   "outputs": [
    {
     "name": "stdout",
     "output_type": "stream",
     "text": [
      "Attempting to load 'small' version components from specific commits:\n",
      " - Tokenizer commit: 6cd67df1b6923465434cee5bb80aadfe7a8d74ab\n",
      " - Feature Extractor commit: a7f430d0d46753348597fb241734d341c48fc69b\n",
      " - Model commit: 06294d5a001f1f32290e98cf9a4a6006f1fc394a\n",
      "\n",
      "Loading small tokenizer from revision: 6cd67df1b6923465434cee5bb80aadfe7a8d74ab...\n",
      "Successfully loaded 'small' tokenizer.\n",
      "\n",
      "Loading small feature extractor from revision: a7f430d0d46753348597fb241734d341c48fc69b...\n",
      "Successfully loaded 'small' feature extractor.\n",
      "\n",
      "Loading small model from revision: 06294d5a001f1f32290e98cf9a4a6006f1fc394a...\n",
      "Successfully loaded 'small' model.\n",
      "\n",
      "Successfully created 'small' WhisperProcessor manually.\n",
      "\n",
      "Successfully prepared 'small' model (from multiple commits) for comparison.\n"
     ]
    }
   ],
   "source": [
    "\n",
    "\n",
    "print(f\"Attempting to load 'small' version components from specific commits:\")\n",
    "print(f\" - Tokenizer commit: {SMALL_TOKENIZER_COMMIT_HASH}\")\n",
    "print(f\" - Feature Extractor commit: {SMALL_FEATURE_EXTRACTOR_COMMIT_HASH}\")\n",
    "print(f\" - Model commit: {SMALL_MODEL_COMMIT_HASH}\")\n",
    "\n",
    "tokenizer_small = None\n",
    "feature_extractor_small = None\n",
    "model_small = None\n",
    "processor_small = None\n",
    "\n",
    "try:\n",
    "    # Load Tokenizer\n",
    "    # These settings are usually saved in tokenizer_config.json.\n",
    "    print(f\"\\nLoading small tokenizer from revision: {SMALL_TOKENIZER_COMMIT_HASH}...\")\n",
    "    tokenizer_small = WhisperTokenizer.from_pretrained(\n",
    "        MODEL_REPO,\n",
    "        revision=SMALL_TOKENIZER_COMMIT_HASH\n",
    "    )\n",
    "    print(\"Successfully loaded 'small' tokenizer.\")\n",
    "\n",
    "    # Load Feature Extractor\n",
    "    print(f\"\\nLoading small feature extractor from revision: {SMALL_FEATURE_EXTRACTOR_COMMIT_HASH}...\")\n",
    "    feature_extractor_small = WhisperFeatureExtractor.from_pretrained(\n",
    "        MODEL_REPO,\n",
    "        revision=SMALL_FEATURE_EXTRACTOR_COMMIT_HASH\n",
    "    )\n",
    "    print(\"Successfully loaded 'small' feature extractor.\")\n",
    "\n",
    "    # Load Model\n",
    "    print(f\"\\nLoading small model from revision: {SMALL_MODEL_COMMIT_HASH}...\")\n",
    "    model_small = WhisperForConditionalGeneration.from_pretrained(\n",
    "        MODEL_REPO,\n",
    "        revision=SMALL_MODEL_COMMIT_HASH\n",
    "    ).to(DEVICE)\n",
    "    model_small.eval()\n",
    "    print(\"Successfully loaded 'small' model.\")\n",
    "\n",
    "    # Manually create the WhisperProcessor instance\n",
    "    if tokenizer_small and feature_extractor_small:\n",
    "        processor_small = WhisperProcessor(feature_extractor=feature_extractor_small, tokenizer=tokenizer_small)\n",
    "        print(\"\\nSuccessfully created 'small' WhisperProcessor manually.\")\n",
    "    else:\n",
    "        print(\"\\nCould not create 'small' processor because tokenizer or feature extractor failed to load.\")\n",
    "\n",
    "except Exception as e:\n",
    "    print(f\"\\nAn error occurred during loading of 'small' components: {e}\")\n",
    "    print(\"Please double-check the following:\")\n",
    "    print(\"1. All three commit hashes are correct and point to the respective uploads for the 'small' version.\")\n",
    "    print(f\"2. The tokenizer files (vocab.json, tokenizer_config.json, etc.) are indeed present at commit {SMALL_TOKENIZER_COMMIT_HASH}.\")\n",
    "    print(f\"3. The feature extractor's preprocessor_config.json is present at commit {SMALL_FEATURE_EXTRACTOR_COMMIT_HASH}.\")\n",
    "    print(f\"4. The model files (pytorch_model.bin, config.json) are present at commit {SMALL_MODEL_COMMIT_HASH}.\")\n",
    "\n",
    "if model_small and processor_small:\n",
    "    print(f\"\\nSuccessfully prepared 'small' model (from multiple commits) for comparison.\")\n",
    "    # You can now use model_small and processor_small for predictions\n",
    "else:\n",
    "    print(f\"\\nFailed to fully load the 'small' model and processor. Check error messages above.\")"
   ]
  },
  {
   "cell_type": "markdown",
   "metadata": {
    "id": "6TVkM0VuNJLN"
   },
   "source": [
    "## Part 2. Getting audio as input"
   ]
  },
  {
   "cell_type": "code",
   "execution_count": 36,
   "metadata": {
    "colab": {
     "base_uri": "https://localhost:8080/",
     "height": 356
    },
    "id": "bLd2bA2FNjOa",
    "outputId": "a38711c5-67e2-43a3-9562-a275e926cdf1"
   },
   "outputs": [],
   "source": [
    "# Cell 4: Record audio for a fixed duration\n",
    "FORMAT = pyaudio.paInt16  # Audio format (16-bit PCM)\n",
    "CHANNELS = 1              # Number of audio channels (1 for mono, 2 for stereo)\n",
    "RATE = 32000              # Sample rate (Whisper expects 16kHz)\n",
    "CHUNK = 1024              # Number of frames per buffer\n",
    "RECORD_SECONDS = 10        # Duration of recording in seconds\n",
    "WAV_FILENAME = \"recorded_audio.wav\"\n",
    "MP3_FILENAME = \"recorded_audio.mp3\"\n",
    "\n",
    "audio = pyaudio.PyAudio()"
   ]
  },
  {
   "cell_type": "code",
   "execution_count": 67,
   "metadata": {},
   "outputs": [
    {
     "name": "stdout",
     "output_type": "stream",
     "text": [
      "Recording...\n",
      "Finished recording.\n",
      "Audio saved as recorded_audio.wav\n",
      "Converted to recorded_audio.mp3\n"
     ]
    },
    {
     "data": {
      "text/html": [
       "\n",
       "                <audio  controls=\"controls\" >\n",
       "                    <source src=\"data:audio/mpeg;base64,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\" type=\"audio/mpeg\" />\n",
       "                    Your browser does not support the audio element.\n",
       "                </audio>\n",
       "              "
      ],
      "text/plain": [
       "<IPython.lib.display.Audio object>"
      ]
     },
     "metadata": {},
     "output_type": "display_data"
    }
   ],
   "source": [
    "\n",
    "# Start Recording\n",
    "stream = audio.open(format=FORMAT, channels=CHANNELS,\n",
    "                    rate=RATE, input=True,\n",
    "                    frames_per_buffer=CHUNK)\n",
    "\n",
    "print(\"Recording...\")\n",
    "frames = []\n",
    "\n",
    "for i in range(0, int(RATE / CHUNK * RECORD_SECONDS)):\n",
    "    data = stream.read(CHUNK)\n",
    "    frames.append(data)\n",
    "\n",
    "print(\"Finished recording.\")\n",
    "\n",
    "# Stop Recording\n",
    "stream.stop_stream()\n",
    "stream.close()\n",
    "audio.terminate()\n",
    "\n",
    "# Save the recorded data as a WAV file\n",
    "wf = wave.open(WAV_FILENAME, 'wb')\n",
    "wf.setnchannels(CHANNELS)\n",
    "wf.setsampwidth(audio.get_sample_size(FORMAT))\n",
    "wf.setframerate(RATE)\n",
    "wf.writeframes(b''.join(frames))\n",
    "wf.close()\n",
    "\n",
    "print(f\"Audio saved as {WAV_FILENAME}\")\n",
    "\n",
    "# Convert WAV to MP3 using pydub\n",
    "try:\n",
    "    sound = AudioSegment.from_wav(WAV_FILENAME)\n",
    "    sound.export(MP3_FILENAME, format=\"mp3\")\n",
    "    print(f\"Converted to {MP3_FILENAME}\")\n",
    "    os.remove(WAV_FILENAME) # Optional: remove the intermediate WAV file\n",
    "    # Display the audio player in the notebook\n",
    "    display(Audio(MP3_FILENAME))\n",
    "except Exception as e:\n",
    "    print(f\"Could not convert to MP3. Make sure ffmpeg is installed and in your PATH. Error: {e}\")\n",
    "    print(\"You can still use the WAV file for prediction if MP3 conversion fails, but ensure your prediction block loads the correct file type.\")"
   ]
  },
  {
   "cell_type": "markdown",
   "metadata": {
    "id": "e3pYHOEFNvI5"
   },
   "source": [
    "## Part 3. Geting predictions with new model"
   ]
  },
  {
   "cell_type": "code",
   "execution_count": 14,
   "metadata": {},
   "outputs": [
    {
     "name": "stderr",
     "output_type": "stream",
     "text": [
      "Device set to use cpu\n"
     ]
    }
   ],
   "source": [
    "from transformers import pipeline\n",
    "\n",
    "pipe = pipeline(\n",
    "    \"automatic-speech-recognition\",\n",
    "    model=model_small,\n",
    "    tokenizer=tokenizer_small,\n",
    "    feature_extractor=feature_extractor_small,\n",
    "    chunk_length_s=30,     # 30s chunks\n",
    "    stride_length_s=10,    # 10s overlap\n",
    "    device='cpu',\n",
    ")\n"
   ]
  },
  {
   "cell_type": "code",
   "execution_count": null,
   "metadata": {},
   "outputs": [],
   "source": [
    "file_path = \"recorded_audio.mp3\"\n",
    "result = pipe(file_path)\n",
    "result"
   ]
  },
  {
   "cell_type": "code",
   "execution_count": 16,
   "metadata": {},
   "outputs": [],
   "source": [
    "def transcribe_single_mp3(file_path, model, feature_extractor, tokenizer, gen_config, down_sample_fn):\n",
    "    \"\"\"\n",
    "    Transcribes a single audio file using the provided Whisper components,\n",
    "    mimicking the dataset processing loop.\n",
    "    \"\"\"\n",
    "    try:\n",
    "        # 1. Load audio file using librosa\n",
    "        #    sr=None ensures loading the original sampling rate\n",
    "        #    mono=True ensures the audio is single channel\n",
    "        print(f\"Loading audio file: {file_path}...\")\n",
    "        audio_original, original_sample_rate = librosa.load(file_path, sr=None, mono=True)\n",
    "        print(f\"Audio loaded. Original sample rate: {original_sample_rate}, Duration: {len(audio_original)/original_sample_rate:.2f}s\")\n",
    "\n",
    "        # 2. Downsample the audio (if necessary)\n",
    "        #print(\"Downsampling audio to 16kHz...\")\n",
    "        audio_16000 = down_sample_fn(audio_original, original_sample_rate)\n",
    "        #print(f\"Audio downsampled. New duration: {len(audio_16000)/16000:.2f}s\")\n",
    "\n",
    "\n",
    "        # 3. Extract input features\n",
    "        #print(\"Extracting input features...\")\n",
    "        # The feature_extractor expects the audio to be a 1D array (which mono=True ensures)\n",
    "        input_feature = feature_extractor(\n",
    "            raw_speech=audio_16000,\n",
    "            sampling_rate=16000,\n",
    "            return_tensors='pt'\n",
    "        ).input_features\n",
    "\n",
    "        # 4. Generate transcription\n",
    "        # Move input_features to the same device as the model\n",
    "        device = model.device\n",
    "        print(f\"Moving features to device: {device}\")\n",
    "        input_feature = input_feature.to(device)\n",
    "\n",
    "        print(\"Generating transcription...\")\n",
    "        with torch.no_grad():\n",
    "            # Use the same gen_config that works for your dataset loop\n",
    "            op = model.generate(input_feature, generation_config=gen_config)\n",
    "\n",
    "        # 5. Decode the predicted tokens\n",
    "        #print(\"Decoding transcription...\")\n",
    "        text_pred = tokenizer.batch_decode(op, skip_special_tokens=True)[0]\n",
    "\n",
    "        return text_pred\n",
    "\n",
    "    except Exception as e:\n",
    "        print(f\"An error occurred during transcription of {file_path}: {e}\")\n",
    "        import traceback\n",
    "        traceback.print_exc()\n",
    "        return None"
   ]
  },
  {
   "cell_type": "code",
   "execution_count": 18,
   "metadata": {},
   "outputs": [],
   "source": [
    "model_small.generation_config.forced_decoder_ids = None\n",
    "\n",
    "model_small.generation_config.language = \"spanish\"\n",
    "model_small.generation_config.task = \"transcribe\"\n",
    "\n",
    "\n",
    "gen_config_for_small = model_small.generation_config\n"
   ]
  },
  {
   "cell_type": "code",
   "execution_count": 38,
   "metadata": {},
   "outputs": [
    {
     "name": "stdout",
     "output_type": "stream",
     "text": [
      "\n",
      "Attempting to transcribe single file: youtube_segment.mp3\n",
      "Loading audio file: youtube_segment.mp3...\n",
      "Audio loaded. Original sample rate: 48000, Duration: 4.99s\n"
     ]
    },
    {
     "name": "stderr",
     "output_type": "stream",
     "text": [
      "`generation_config` default values have been modified to match model-specific defaults: {'forced_decoder_ids': [[1, None], [2, 50359]]}. If this is not desired, please set these values explicitly.\n",
      "You have passed task=transcribe, but also have set `forced_decoder_ids` to [[1, None], [2, 50359]] which creates a conflict. `forced_decoder_ids` will be ignored in favor of task=transcribe.\n",
      "`generation_config` default values have been modified to match model-specific defaults: {'suppress_tokens': [1, 2, 7, 8, 9, 10, 14, 25, 26, 27, 28, 29, 31, 58, 59, 60, 61, 62, 63, 90, 91, 92, 93, 359, 503, 522, 542, 873, 893, 902, 918, 922, 931, 1350, 1853, 1982, 2460, 2627, 3246, 3253, 3268, 3536, 3846, 3961, 4183, 4667, 6585, 6647, 7273, 9061, 9383, 10428, 10929, 11938, 12033, 12331, 12562, 13793, 14157, 14635, 15265, 15618, 16553, 16604, 18362, 18956, 20075, 21675, 22520, 26130, 26161, 26435, 28279, 29464, 31650, 32302, 32470, 36865, 42863, 47425, 49870, 50254, 50258, 50360, 50361, 50362], 'begin_suppress_tokens': [220, 50257], 'forced_decoder_ids': [[1, None], [2, 50359]]}. If this is not desired, please set these values explicitly.\n"
     ]
    },
    {
     "name": "stdout",
     "output_type": "stream",
     "text": [
      "Moving features to device: cpu\n",
      "Generating transcription...\n",
      "An error occurred during transcription of youtube_segment.mp3: You have explicitly specified `forced_decoder_ids`. Please remove the `forced_decoder_ids` argument in favour of `input_ids` or `decoder_input_ids` respectively.\n",
      "\n",
      "Transcription failed for the single file.\n"
     ]
    },
    {
     "name": "stderr",
     "output_type": "stream",
     "text": [
      "Traceback (most recent call last):\n",
      "  File \"/tmp/ipykernel_6673/3092789144.py\", line 38, in transcribe_single_mp3\n",
      "    op = model.generate(input_feature, generation_config=gen_config)\n",
      "  File \"/home/franciscobrizuela/.local/lib/python3.13/site-packages/transformers/models/whisper/generation_whisper.py\", line 774, in generate\n",
      "    ) = self.generate_with_fallback(\n",
      "        ~~~~~~~~~~~~~~~~~~~~~~~~~~~^\n",
      "        segment_input=segment_input,\n",
      "        ^^^^^^^^^^^^^^^^^^^^^^^^^^^^\n",
      "    ...<17 lines>...\n",
      "        kwargs=kwargs,\n",
      "        ^^^^^^^^^^^^^^\n",
      "    )\n",
      "    ^\n",
      "  File \"/home/franciscobrizuela/.local/lib/python3.13/site-packages/transformers/models/whisper/generation_whisper.py\", line 950, in generate_with_fallback\n",
      "    seek_outputs = super().generate(\n",
      "        segment_input,\n",
      "    ...<7 lines>...\n",
      "        **generate_kwargs,\n",
      "    )\n",
      "  File \"/home/franciscobrizuela/.local/lib/python3.13/site-packages/torch/utils/_contextlib.py\", line 116, in decorate_context\n",
      "    return func(*args, **kwargs)\n",
      "  File \"/home/franciscobrizuela/.local/lib/python3.13/site-packages/transformers/generation/utils.py\", line 2358, in generate\n",
      "    prepared_logits_processor = self._get_logits_processor(\n",
      "        generation_config=generation_config,\n",
      "    ...<7 lines>...\n",
      "        negative_prompt_attention_mask=negative_prompt_attention_mask,\n",
      "    )\n",
      "  File \"/home/franciscobrizuela/.local/lib/python3.13/site-packages/transformers/generation/utils.py\", line 1169, in _get_logits_processor\n",
      "    raise ValueError(\n",
      "    ...<2 lines>...\n",
      "    )\n",
      "ValueError: You have explicitly specified `forced_decoder_ids`. Please remove the `forced_decoder_ids` argument in favour of `input_ids` or `decoder_input_ids` respectively.\n"
     ]
    }
   ],
   "source": [
    "# Specify the path to your MP3 file\n",
    "# ACA TOMÁ \n",
    "mp3_file = \"youtube_segment.mp3\" # ESTE HACE LA TRANSCRIPCION DEL AUDIO DE YUTU\n",
    "\n",
    "my_model = model_small\n",
    "my_feature_extractor = feature_extractor_small\n",
    "my_tokenizer = tokenizer_small\n",
    "my_gen_config = gen_config_for_small # This is the gen_config from your working dataset loop\n",
    "\n",
    "if 'my_model' in locals() and 'my_feature_extractor' in locals() and \\\n",
    "   'my_tokenizer' in locals() and 'my_gen_config' in locals():\n",
    "\n",
    "   print(f\"\\nAttempting to transcribe single file: {mp3_file}\")\n",
    "   predicted_text = transcribe_single_mp3( mp3_file, my_model, my_feature_extractor, my_tokenizer, my_gen_config, down_sample_audio)\n",
    "\n",
    "   if predicted_text:\n",
    "       print(\"\\n--- Predicted Transcription ---\")\n",
    "       print(predicted_text)\n",
    "   else:\n",
    "       print(\"\\nTranscription failed for the single file.\")"
   ]
  },
  {
   "cell_type": "code",
   "execution_count": 26,
   "metadata": {},
   "outputs": [
    {
     "name": "stderr",
     "output_type": "stream",
     "text": [
      "Device set to use cpu\n"
     ]
    },
    {
     "name": "stdout",
     "output_type": "stream",
     "text": [
      "NLLB (Guarani to Spanish): Dame hoy nuestro alimento de todos los tiempos y deja de hacernos mal.\n",
      "Could not load a dedicated small Guarani to Spanish model (Helsinki-NLP/opus-mt-grn-es): Helsinki-NLP/opus-mt-grn-es is not a local folder and is not a valid model identifier listed on 'https://huggingface.co/models'\n",
      "If this is a private repository, make sure to pass a token having permission to this repo either by logging in with `huggingface-cli login` or by passing `token=<your_token>`\n",
      "This is common for very low-resource pairs. Relying on larger multilingual models like NLLB is often necessary.\n"
     ]
    }
   ],
   "source": [
    "\n",
    "from transformers import pipeline\n",
    "\n",
    "# Your ASR output text in Guarani\n",
    "#asr_text_guarani = \"Mba'éichapa neko'ẽ?\" # Example: \"How are you?\"\n",
    "asr_text_guarani = predicted_text\n",
    "\n",
    "# --- Models for Guarani to Spanish Translation ---\n",
    "\n",
    "# Model 1: Helsinki-NLP Opus MT model (generally good quality, multilingual)\n",
    "# This is a broader multilingual model, but we can specify the language pair.\n",
    "# It might not have a dedicated Guarani-Spanish small model,\n",
    "# so we'll try a general Romance language to Spanish, or a multilingual one.\n",
    "# Finding a direct small Guarani->Spanish model is challenging.\n",
    "# We will use a multilingual model that supports Guarani and specify Spanish as the target.\n",
    "\n",
    "# Larger, potentially more accurate model: NLLB (No Language Left Behind)\n",
    "# NLLB models are powerful but can be large. We'll try a distilled (smaller) version.\n",
    "translator_gn_es_nllb = pipeline(\n",
    "    \"translation\",\n",
    "    model=\"facebook/nllb-200-distilled-600M\",\n",
    "    src_lang=\"grn_Latn\", # Guarani using Latin script\n",
    "    tgt_lang=\"spa_Latn\",  # Spanish using Latin script\n",
    "    device='cpu'\n",
    ")\n",
    "\n",
    "\n",
    "translation_gn_es_nllb = translator_gn_es_nllb(asr_text_guarani)\n",
    "print(f\"NLLB (Guarani to Spanish): {translation_gn_es_nllb[0]['translation_text']}\")\n",
    "\n"
   ]
  },
  {
   "cell_type": "code",
   "execution_count": 32,
   "metadata": {},
   "outputs": [
    {
     "name": "stderr",
     "output_type": "stream",
     "text": [
      "Device set to use cpu\n"
     ]
    }
   ],
   "source": [
    "asr_text_guarani = \"Ambyasyeteri ndaikatuihaguére rojapo porã ore rembiapo\"\n",
    "\n",
    "translator_gn_en_nllb = pipeline(\n",
    "    \"translation\",\n",
    "    model=\"facebook/nllb-200-distilled-600M\",\n",
    "    src_lang=\"grn_Latn\", # Guarani using Latin script\n",
    "    tgt_lang=\"eng_Latn\",  # Spanish using Latin script\n",
    "    device='cpu'\n",
    ")"
   ]
  },
  {
   "cell_type": "code",
   "execution_count": 34,
   "metadata": {},
   "outputs": [
    {
     "name": "stdout",
     "output_type": "stream",
     "text": [
      "English: I'm sorry we couldn't do our job better\n",
      "Spanish: Lamento no poder mejorar nuestro trabajo\n"
     ]
    }
   ],
   "source": [
    "asr_text_guarani = \"Ambyasyeteri ndaikatuihaguére rojapoporã ore rembiapo\"\n",
    "\n",
    "translation_gn_en_nllb = translator_gn_en_nllb(asr_text_guarani)\n",
    "print(f\"English: {translation_gn_en_nllb[0]['translation_text']}\")\n",
    "\n",
    "translation_gn_es_nllb = translator_gn_es_nllb(asr_text_guarani)\n",
    "print(f\"Spanish: {translation_gn_es_nllb[0]['translation_text']}\")"
   ]
  },
  {
   "cell_type": "markdown",
   "metadata": {
    "id": "2RSKvi0vN3nz"
   },
   "source": [
    "## Part 4. Comparing model sizes"
   ]
  },
  {
   "cell_type": "code",
   "execution_count": null,
   "metadata": {
    "id": "qtfc-B0uN3t2"
   },
   "outputs": [],
   "source": [
    "# Cell 7: Load the 'tiny' version components using their specific commit hashes\n",
    "\n",
    "MODEL_REPO = \"SchindleriaPraematurus/whisper-tiny-gn-finetuned\" # Your repository\n",
    "DEVICE = \"cuda\" if torch.cuda.is_available() else \"cpu\"\n",
    "\n",
    "\n",
    "TINY_TOKENIZER_COMMIT_HASH = \"5d8e8d409cb195deb958c6733939dae432db2a52\"  # Commit for \"Upload tokenizer\"\n",
    "TINY_FEATURE_EXTRACTOR_COMMIT_HASH = \"612f9f357ea4677f69fcfae2ffaa4c55534a3ac2\" # Commit for \"Upload feature_extractor\"\n",
    "TINY_MODEL_COMMIT_HASH = \"712fa109774ac1a772be3c29b718785afa865a9e\" # Commit for \"Upload fine-tuned Whisper-tiny\"\n"
   ]
  },
  {
   "cell_type": "code",
   "execution_count": null,
   "metadata": {
    "scrolled": true
   },
   "outputs": [],
   "source": [
    "\n",
    "\n",
    "print(f\"Attempting to load 'tiny' version components from specific commits:\")\n",
    "print(f\" - Tokenizer commit: {TINY_TOKENIZER_COMMIT_HASH}\")\n",
    "print(f\" - Feature Extractor commit: {TINY_FEATURE_EXTRACTOR_COMMIT_HASH}\")\n",
    "print(f\" - Model commit: {TINY_MODEL_COMMIT_HASH}\")\n",
    "\n",
    "tokenizer_tiny = None\n",
    "feature_extractor_tiny = None\n",
    "model_tiny = None\n",
    "processor_tiny = None\n",
    "\n",
    "try:\n",
    "    # Load Tokenizer\n",
    "    # Your training script loaded the initial tokenizer with language=\"spanish\", task=\"transcribe\".\n",
    "    # These settings are usually saved in tokenizer_config.json.\n",
    "    # Try loading without explicit language/task first, as it should use the saved config.\n",
    "    print(f\"\\nLoading tiny tokenizer from revision: {TINY_TOKENIZER_COMMIT_HASH}...\")\n",
    "    tokenizer_tiny = WhisperTokenizer.from_pretrained(\n",
    "        MODEL_REPO,\n",
    "        revision=TINY_TOKENIZER_COMMIT_HASH\n",
    "    )\n",
    "    print(\"Successfully loaded 'tiny' tokenizer.\")\n",
    "\n",
    "    # Load Feature Extractor\n",
    "    print(f\"\\nLoading tiny feature extractor from revision: {TINY_FEATURE_EXTRACTOR_COMMIT_HASH}...\")\n",
    "    feature_extractor_tiny = WhisperFeatureExtractor.from_pretrained(\n",
    "        MODEL_REPO,\n",
    "        revision=TINY_FEATURE_EXTRACTOR_COMMIT_HASH\n",
    "    )\n",
    "    print(\"Successfully loaded 'tiny' feature extractor.\")\n",
    "\n",
    "    # Load Model\n",
    "    print(f\"\\nLoading tiny model from revision: {TINY_MODEL_COMMIT_HASH}...\")\n",
    "    model_tiny = WhisperForConditionalGeneration.from_pretrained(\n",
    "        MODEL_REPO,\n",
    "        revision=TINY_MODEL_COMMIT_HASH\n",
    "    ).to(DEVICE)\n",
    "    model_tiny.eval()\n",
    "    print(\"Successfully loaded 'tiny' model.\")\n",
    "\n",
    "    # Manually create the WhisperProcessor instance\n",
    "    if tokenizer_tiny and feature_extractor_tiny:\n",
    "        processor_tiny = WhisperProcessor(feature_extractor=feature_extractor_tiny, tokenizer=tokenizer_tiny)\n",
    "        print(\"\\nSuccessfully created 'tiny' WhisperProcessor manually.\")\n",
    "    else:\n",
    "        print(\"\\nCould not create 'tiny' processor because tokenizer or feature extractor failed to load.\")\n",
    "\n",
    "except Exception as e:\n",
    "    print(f\"\\nAn error occurred during loading of 'tiny' components: {e}\")\n",
    "    print(\"Please double-check the following:\")\n",
    "    print(\"1. All three commit hashes are correct and point to the respective uploads for the 'tiny' version.\")\n",
    "    print(f\"2. The tokenizer files (vocab.json, tokenizer_config.json, etc.) are indeed present at commit {TINY_TOKENIZER_COMMIT_HASH}.\")\n",
    "    print(f\"3. The feature extractor's preprocessor_config.json is present at commit {TINY_FEATURE_EXTRACTOR_COMMIT_HASH}.\")\n",
    "    print(f\"4. The model files (pytorch_model.bin, config.json) are present at commit {TINY_MODEL_COMMIT_HASH}.\")\n",
    "\n",
    "if model_tiny and processor_tiny:\n",
    "    print(f\"\\nSuccessfully prepared 'tiny' model (from multiple commits) for comparison.\")\n",
    "    # You can now use model_tiny and processor_tiny for predictions\n",
    "else:\n",
    "    print(f\"\\nFailed to fully load the 'tiny' model and processor. Check error messages above.\")"
   ]
  },
  {
   "cell_type": "code",
   "execution_count": 16,
   "metadata": {},
   "outputs": [
    {
     "ename": "NameError",
     "evalue": "name 'model_tiny' is not defined",
     "output_type": "error",
     "traceback": [
      "\u001b[0;31m---------------------------------------------------------------------------\u001b[0m",
      "\u001b[0;31mNameError\u001b[0m                                 Traceback (most recent call last)",
      "Cell \u001b[0;32mIn[16], line 1\u001b[0m\n\u001b[0;32m----> 1\u001b[0m \u001b[43mmodel_tiny\u001b[49m\u001b[38;5;241m.\u001b[39mgeneration_config\u001b[38;5;241m.\u001b[39minput_ids \u001b[38;5;241m=\u001b[39m \u001b[38;5;28;01mNone\u001b[39;00m\n\u001b[1;32m      3\u001b[0m model_tiny\u001b[38;5;241m.\u001b[39mgeneration_config\u001b[38;5;241m.\u001b[39mlanguage \u001b[38;5;241m=\u001b[39m \u001b[38;5;124m\"\u001b[39m\u001b[38;5;124mspanish\u001b[39m\u001b[38;5;124m\"\u001b[39m\n\u001b[1;32m      4\u001b[0m model_tiny\u001b[38;5;241m.\u001b[39mgeneration_config\u001b[38;5;241m.\u001b[39mtask \u001b[38;5;241m=\u001b[39m \u001b[38;5;124m\"\u001b[39m\u001b[38;5;124mtranscribe\u001b[39m\u001b[38;5;124m\"\u001b[39m\n",
      "\u001b[0;31mNameError\u001b[0m: name 'model_tiny' is not defined"
     ]
    }
   ],
   "source": [
    "model_tiny.generation_config.forced_decoder_ids = None\n",
    "\n",
    "model_tiny.generation_config.language = \"spanish\"\n",
    "model_tiny.generation_config.task = \"transcribe\"\n",
    "\n",
    "\n",
    "gen_config_for_tiny = model_tiny.generation_config"
   ]
  },
  {
   "cell_type": "code",
   "execution_count": 2,
   "metadata": {},
   "outputs": [],
   "source": [
    "from datasets import load_dataset\n",
    "\n",
    "test_data = load_dataset(\"mozilla-foundation/common_voice_17_0\", \"gn\", split=\"test\")"
   ]
  },
  {
   "cell_type": "code",
   "execution_count": null,
   "metadata": {},
   "outputs": [],
   "source": [
    "model_tiny.eval()\n",
    "\n",
    "\n",
    "for idx in range(10):\n",
    "\n",
    "    target = test_data[idx]['sentence']\n",
    "    audio_original = test_data[idx]['audio']['array']\n",
    "    original_sample_rate = test_data[idx]['audio']['sampling_rate']\n",
    "\n",
    "    audio_16000 = down_sample_audio(audio_original, original_sample_rate)\n",
    "\n",
    "    input_feature = feature_extractor_tiny(raw_speech=audio_16000,\n",
    "                                    sampling_rate=16000,\n",
    "                                    return_tensors='pt').input_features\n",
    "\n",
    "    with torch.no_grad():\n",
    "        op = model_tiny.generate(input_feature.to('cuda'), generation_config=gen_config_for_tiny)\n",
    "\n",
    "\n",
    "    text_pred =  tokenizer_tiny.batch_decode(op,skip_special_tokens=True )[0]\n",
    "\n",
    "    print(f'-------{idx}------')\n",
    "    print(f'true : {target} \\npred : {text_pred}')\n",
    "    print('\\n ')"
   ]
  },
  {
   "cell_type": "code",
   "execution_count": null,
   "metadata": {},
   "outputs": [],
   "source": [
    "model_small.eval()\n",
    "\n",
    "for idx in range(10):\n",
    "\n",
    "    target = test_data[idx]['sentence']\n",
    "    audio_original = test_data[idx]['audio']['array']\n",
    "    original_sample_rate = test_data[idx]['audio']['sampling_rate']\n",
    "\n",
    "    audio_16000 = down_sample_audio(audio_original, original_sample_rate)\n",
    "\n",
    "    input_feature = feature_extractor_small(raw_speech=audio_16000,\n",
    "                                    sampling_rate=16000,\n",
    "                                    return_tensors='pt').input_features\n",
    "\n",
    "    with torch.no_grad():\n",
    "        op = model_small.generate(input_feature.to('cpu'), generation_config=gen_config_for_small)\n",
    "\n",
    "\n",
    "    text_pred =  tokenizer_small.batch_decode(op,skip_special_tokens=True )[0]\n",
    "\n",
    "    print(f'-------{idx}------')\n",
    "    print(f'true : {target} \\npred : {text_pred}')\n",
    "    print('\\n ')"
   ]
  },
  {
   "cell_type": "code",
   "execution_count": 43,
   "metadata": {},
   "outputs": [
    {
     "name": "stdout",
     "output_type": "stream",
     "text": [
      "-------500------\n",
      "true : Héẽ, nde. \n",
      "pred : Héẽ, nde.\n",
      "\n",
      " \n",
      "-------501------\n",
      "true : Peteĩ ka'aru rombyatypaite ore rembipuru ha roguerekomíva guive. \n",
      "pred : Peteĩ ka'aru rombyatypaite ore rembipuru ha roguerekomíva guive.\n",
      "\n",
      " \n",
      "-------502------\n",
      "true : Rog̃uahẽvo upe óga pyahúpe. \n",
      "pred : Rog̃uahẽvo upe óga pyahúpe.\n",
      "\n",
      " \n",
      "-------503------\n",
      "true : Itakái \n",
      "pred : Itakái\n",
      "\n",
      " \n",
      "-------504------\n",
      "true : Remyaña rejúvo nde mba'yrumi. \n",
      "pred : Remyaña rejúvo nde mba'yrumi.\n",
      "\n",
      " \n",
      "-------505------\n",
      "true : Péva he'ipávo rohendu umi ryguasura'y opiã mbegue. \n",
      "pred : Péva he'ipávo rohendu umi ryguasura'y opiã mbegue.\n",
      "\n",
      " \n",
      "-------506------\n",
      "true : jopói hepyete \n",
      "pred : jopói hepyete\n",
      "\n",
      " \n",
      "-------507------\n",
      "true : Chemitã'írõ ahendúma upéva. \n",
      "pred : Chemitã'írõ ahendúma upéva.\n",
      "\n",
      " \n",
      "-------508------\n",
      "true : Añeha'ãmbaitéta. \n",
      "pred : Añeha'ãmbaitéta.\n",
      "\n",
      " \n",
      "-------509------\n",
      "true : cheñyrõmína che sy \n",
      "pred : cheñyrõmína che sy\n",
      "\n",
      " \n",
      "-------510------\n",
      "true : Ha pya'evoi hasykatu ñepyrũ. \n",
      "pred : APya'evoi hasykatũ ñepyrũ.\n",
      "\n",
      " \n",
      "-------511------\n",
      "true : ha upépe py'ỹinte omondýi umi ka'irãi ñangarekohárape \n",
      "pred : ha upépe py'ỹinte omondýi umi ka'irãi ñangarekohárape\n",
      "\n",
      " \n",
      "-------512------\n",
      "true : Ndajepokuaái amoñe'ẽ guaraníme. \n",
      "pred : Ndajepokuaái amoñe'ẽ guaraníme.\n",
      "\n",
      " \n",
      "-------513------\n",
      "true : Avy'a nendive. \n",
      "pred : Avy'a nendive.\n",
      "\n",
      " \n",
      "-------514------\n",
      "true : Opáyvo ndojuhuvéi hymba kavaju. \n",
      "pred : Opáyvo ndojuhuvéi hymba kavaju.\n",
      "\n",
      " \n",
      "-------515------\n",
      "true : Chekane'õiterei. \n",
      "pred : Chekaneʼõiterei.\n",
      "\n",
      " \n",
      "-------516------\n",
      "true : ¡Oĩma! \n",
      "pred : Oĩma.\n",
      "\n",
      " \n",
      "-------517------\n",
      "true : Ha upéikatu opaite. \n",
      "pred : Ha upéikatu opaite.\n",
      "\n",
      " \n",
      "-------518------\n",
      "true : Paraguay retã omonde ao hũ \n",
      "pred : Paraguay retã omonde ao hũ\n",
      "\n",
      " \n",
      "-------519------\n",
      "true : Upe yno'õ rembe'y rupi oĩva'ekue avei jakare kakuaakuaa. \n",
      "pred : Upe yno'õ rembe'y rupi oĩva'ekue avei jakare kakuaakuaa.\n",
      "\n",
      " \n",
      "-------520------\n",
      "true : Iñirũ oĩva ijykére oporandu chupe \n",
      "pred : Iñirũ oĩva ijykére oporandu chupe\n",
      "\n",
      " \n",
      "-------521------\n",
      "true : Kuña Paraguáicha niko ndaiporivoi mokõi \n",
      "pred : Kuña Paraguáicha niko ndaiporivoi mokõi\n",
      "\n",
      " \n",
      "-------522------\n",
      "true : Ipytyvõhára kirirĩháme oñemoʼag̃ui ojaʼỹre hese. \n",
      "pred : Ipytyvõhára kirirĩháme oñemoʼag̃ui ojaʼỹre hese.\n",
      "\n",
      " \n",
      "-------523------\n",
      "true : ikane'õiterei mokõi térã mbohapy ára \n",
      "pred : ikane'õiterei mokõi térã mbohapy ára\n",
      "\n",
      " \n",
      "-------524------\n",
      "true : Anichéne. \n",
      "pred : Anichéne.\n",
      "\n",
      " \n",
      "-------525------\n",
      "true : Arapópe katu opavavete ijaty peteĩ mesa guasu jerére \n",
      "pred : Arapópe katu opavavete ijaty peteĩ mesa guasu jerére\n",
      "\n",
      " \n",
      "-------526------\n",
      "true : Og̃uahẽmbáma. \n",
      "pred : Og̃uahẽmbáma.\n",
      "\n",
      " \n",
      "-------527------\n",
      "true : Hembiasa políticape. \n",
      "pred : Hembiasa políticape.\n",
      "\n",
      " \n",
      "-------528------\n",
      "true : Nda'éiniko ndéve katuete amonguerataha. \n",
      "pred : Nda'éiniko ndéve katuete amonguerataha.\n",
      "\n",
      " \n",
      "-------529------\n",
      "true : Ha péicha og̃uahẽ meve oho. \n",
      "pred : Ha péicha og̃uahẽ meve oho.\n",
      "\n",
      " \n",
      "-------530------\n",
      "true : Akóinte ojehuháicha heta tapicha oĩkuri upe kaʼarúpe. \n",
      "pred : Akóinte ojehuháicha heta tapicha oĩkuri upe kaʼarúpe.\n",
      "\n",
      " \n",
      "-------531------\n",
      "true : G̃uaig̃ui. \n",
      "pred : G̃uaig̃ui.\n",
      "\n",
      " \n",
      "-------532------\n",
      "true : Heta oguata rire, ojuhu opa ovetã ijapu'aha. \n",
      "pred : Heta oguata rire, ojuhu opa ovetã ijapu'aha.\n",
      "\n",
      " \n",
      "-------533------\n",
      "true : Upéi jaháta ñañami ñande vaka ha ñambokambúta ñande guácho. \n",
      "pred : Upéi jaháta ñañami ñande vaka añamokambúta ñande guácho.\n",
      "\n",
      " \n",
      "-------534------\n",
      "true : Upépe ojogapo vaivai ha upéicha avei. \n",
      "pred : Upépe ojogapo vaivai ha upéicha avei.\n",
      "\n",
      " \n",
      "-------535------\n",
      "true : ha ojeitýmakatu hi'ári. \n",
      "pred : ha ojeitýmakatu hi'ári.\n",
      "\n",
      " \n",
      "-------536------\n",
      "true : ha upéi ombojoapy \n",
      "pred : ha upéi ombojoapy\n",
      "\n",
      " \n",
      "-------537------\n",
      "true : Herajoapy. \n",
      "pred : Herajoapy.\n",
      "\n",
      " \n",
      "-------538------\n",
      "true : Ta'ýra ypykue ojuhu peteĩ vosa'i ndaha'éiva imba'ekuéra. \n",
      "pred : Ta'ýra ypykue ojuhu peteĩ vosa'i ndaha'éiva imba'ekuéra.\n",
      "\n",
      " \n",
      "-------539------\n",
      "true : Umi jagua saite ohóta jave, ho'a ha omano avei. \n",
      "pred : Umi jagua saite ohóta jave, ho'a ha omano avei.\n",
      "\n",
      " \n",
      "-------540------\n",
      "true : Ndaipotái che upéva. \n",
      "pred : Ndaipotái che upéva.\n",
      "\n",
      " \n",
      "-------541------\n",
      "true : Ha peteĩ tesapirĩme ñandejopi \n",
      "pred : Ha peteĩ tesapirĩme ñandejopi\n",
      "\n",
      " \n",
      "-------542------\n",
      "true : Ahechava'erã sapatu ohóva che traje-re. \n",
      "pred : Ahechava'erã sapatu ohóva che traje-re.\n",
      "\n",
      " \n",
      "-------543------\n",
      "true : Ko'ã mba'e mbarete porã oikékuri Maria akãme. \n",
      "pred : Ko'ã mba'e mbarete porã oikékuri Maria akãme.\n",
      "\n",
      " \n",
      "-------544------\n",
      "true : Tekokatu térã tekomarã heñói ndénte reipotágui \n",
      "pred : Tekokatu térã tekomarã heñói ndénte reipotágui\n",
      "\n",
      " \n",
      "-------545------\n",
      "true : Hóga rape yke akatúa gotyo ndaje ojogapo karai Crispín. \n",
      "pred : Hóga rape yke akatúa gotyo ndaje ojogapo karai Crispín.\n",
      "\n",
      " \n",
      "-------546------\n",
      "true : Ha'éniko ndogueroviái ko'ã mba'e. \n",
      "pred : Ha'éniko ndogueroviái ko'ã mba'e.\n",
      "\n",
      " \n",
      "-------547------\n",
      "true : Aháta amba'apo. \n",
      "pred : Aháta amba’apo.\n",
      "\n",
      " \n",
      "-------548------\n",
      "true : Ombouva'ekue heta ñorairõhára. \n",
      "pred : Omboúva'ekue heta ñorairõhára.\n",
      "\n",
      " \n",
      "-------549------\n",
      "true : Amóntema upéicharõ. \n",
      "pred : Amóntema upéicharõ.\n",
      "\n",
      " \n"
     ]
    }
   ],
   "source": [
    "model_small.eval()\n",
    "\n",
    "for idx in range(500,550):\n",
    "\n",
    "    target = test_data[idx]['sentence']\n",
    "    audio_original = test_data[idx]['audio']['array']\n",
    "    original_sample_rate = test_data[idx]['audio']['sampling_rate']\n",
    "\n",
    "    audio_16000 = down_sample_audio(audio_original, original_sample_rate)\n",
    "\n",
    "    input_feature = feature_extractor_small(raw_speech=audio_16000,\n",
    "                                    sampling_rate=16000,\n",
    "                                    return_tensors='pt').input_features\n",
    "\n",
    "    with torch.no_grad():\n",
    "        op = model_small.generate(input_feature.to('cpu'), generation_config=gen_config_for_small)\n",
    "\n",
    "\n",
    "    text_pred =  tokenizer_small.batch_decode(op,skip_special_tokens=True )[0]\n",
    "\n",
    "    print(f'-------{idx}------')\n",
    "    print(f'true : {target} \\npred : {text_pred}')\n",
    "    print('\\n ')"
   ]
  },
  {
   "cell_type": "markdown",
   "metadata": {},
   "source": [
    "## ADded the original model to get the output from it (untrained)"
   ]
  },
  {
   "cell_type": "code",
   "execution_count": null,
   "metadata": {},
   "outputs": [],
   "source": [
    "from transformers import WhisperTokenizer, WhisperFeatureExtractor, WhisperForConditionalGeneration\n",
    "import torch\n",
    "\n",
    "# Define device (GPU if available, else CPU)\n",
    "device = 'cpu'\n",
    "print(f\"Using device: {device}\")\n",
    "\n",
    "# Load tokenizer and feature extractor\n",
    "tokenizer = WhisperTokenizer.from_pretrained(\"openai/whisper-small\", language=\"spanish\", task=\"transcribe\")\n",
    "feature_extractor = WhisperFeatureExtractor.from_pretrained(\"openai/whisper-small\", language=\"spanish\", task=\"transcribe\")\n",
    "\n",
    "# Load model and move to appropriate device\n",
    "model = WhisperForConditionalGeneration.from_pretrained(\"openai/whisper-small\").to(device)"
   ]
  },
  {
   "cell_type": "code",
   "execution_count": null,
   "metadata": {},
   "outputs": [],
   "source": [
    "model.generation_config.forced_decoder_ids = None\n",
    "\n",
    "model.generation_config.language = \"spanish\"\n",
    "model.generation_config.task = \"transcribe\"\n",
    "\n",
    "\n",
    "gen_config = model.generation_config"
   ]
  },
  {
   "cell_type": "code",
   "execution_count": null,
   "metadata": {},
   "outputs": [],
   "source": [
    "from datasets import load_dataset\n",
    "\n",
    "model.eval()\n",
    "\n",
    "test_data = load_dataset(\"mozilla-foundation/common_voice_17_0\", \"gn\", split=\"test\")\n",
    "\n",
    "for idx in range(10):\n",
    "\n",
    "    target = test_data[idx]['sentence']\n",
    "    audio_original = test_data[idx]['audio']['array']\n",
    "    original_sample_rate = test_data[idx]['audio']['sampling_rate']\n",
    "\n",
    "    audio_16000 = down_sample_audio(audio_original, original_sample_rate)\n",
    "\n",
    "    input_feature = feature_extractor(raw_speech=audio_16000,\n",
    "                                    sampling_rate=16000,\n",
    "                                    return_tensors='pt').input_features\n",
    "\n",
    "    with torch.no_grad():\n",
    "        op = model.generate(input_feature.to('cpu'), generation_config=gen_config)\n",
    "\n",
    "\n",
    "    text_pred =  tokenizer.batch_decode(op,skip_special_tokens=True )[0]\n",
    "\n",
    "    print(f'-------{idx}------')\n",
    "    print(f'true : {target} \\npred : {text_pred}')\n",
    "    print('\\n ')"
   ]
  },
  {
   "cell_type": "markdown",
   "metadata": {},
   "source": [
    "## Download from youtube"
   ]
  },
  {
   "cell_type": "code",
   "execution_count": 36,
   "metadata": {},
   "outputs": [],
   "source": [
    "import yt_dlp\n",
    "import subprocess\n",
    "\n",
    "def download_youtube_audio_segment(video_url, start_time_str, end_time_str, output_filename=\"audio.mp3\"):\n",
    "    \"\"\"\n",
    "    Downloads a specific segment of audio from a YouTube video as an MP3 file.\n",
    "\n",
    "    Args:\n",
    "        video_url (str): The URL of the YouTube video.\n",
    "        start_time_str (str): The start time of the segment (e.g., \"00:01:30\" for 1 minute 30 seconds).\n",
    "                              If None, downloads from the beginning.\n",
    "        end_time_str (str): The end time of the segment (e.g., \"00:02:00\" for 2 minutes).\n",
    "                            If None, downloads until the end.\n",
    "        output_filename (str, optional): The desired name for the output MP3 file.\n",
    "                                         Defaults to \"audio.mp3\".\n",
    "    \"\"\"\n",
    "    ydl_opts = {\n",
    "        'format': 'bestaudio/best',\n",
    "        'outtmpl': '%(id)s.%(ext)s',  # Temporary filename\n",
    "        'quiet': True,\n",
    "    }\n",
    "\n",
    "    if start_time_str and end_time_str:\n",
    "        # yt-dlp uses ffmpeg for time range extraction during postprocessing\n",
    "        # We can also specify download sections directly if the server supports it (less common for precise cuts)\n",
    "        # A more robust way is to download the best audio and then cut it with ffmpeg.\n",
    "\n",
    "        # Download the full audio first (or best available section if supported by extractor)\n",
    "        ydl_opts_full_audio = {\n",
    "            'format': 'bestaudio/best',\n",
    "            'outtmpl': f'%(id)s_full.%(ext)s',\n",
    "            'quiet': True,\n",
    "        }\n",
    "        temp_filename = \"\"\n",
    "        video_id = \"\"\n",
    "        try:\n",
    "            with yt_dlp.YoutubeDL(ydl_opts_full_audio) as ydl:\n",
    "                info = ydl.extract_info(video_url, download=True)\n",
    "                video_id = info.get('id', 'temp_video')\n",
    "                # Construct the downloaded filename based on ydl_opts_full_audio\n",
    "                # This assumes the extension is one of the common audio ones yt-dlp might download\n",
    "                # Common extensions: m4a, webm, ogg, mp3 (though conversion to mp3 is a post-processing step)\n",
    "                # We'll try to find the actual downloaded extension.\n",
    "                downloaded_ext = info.get('ext', 'm4a') # Default to m4a if not found\n",
    "                temp_filename = f\"{video_id}_full.{downloaded_ext}\"\n",
    "\n",
    "\n",
    "            # Use ffmpeg to cut the segment and convert to mp3\n",
    "            ffmpeg_command = [\n",
    "                'ffmpeg',\n",
    "                '-hide_banner', # Suppress version and build info\n",
    "                '-loglevel', 'error', # Suppress all logs except errors\n",
    "                '-y', #overwrite file if it exists\n",
    "                '-i', temp_filename,\n",
    "                '-ss', start_time_str,\n",
    "                '-to', end_time_str,\n",
    "                '-vn',  # No video\n",
    "                '-acodec', 'libmp3lame', # Audio codec MP3\n",
    "                '-q:a', '2',  # Audio quality (0-9, lower is better for VBR)\n",
    "                output_filename\n",
    "            ]\n",
    "            subprocess.run(ffmpeg_command, check=True)\n",
    "            print(f\"Audio segment saved as {output_filename}\")\n",
    "        except yt_dlp.utils.DownloadError as e:\n",
    "            print(f\"Error during download: {e}\")\n",
    "        except subprocess.CalledProcessError as e:\n",
    "            print(f\"Error during ffmpeg processing: {e}\")\n",
    "        except Exception as e:\n",
    "            print(f\"An unexpected error occurred: {e}\")\n",
    "        finally:\n",
    "            # Clean up the temporary full audio file\n",
    "            if temp_filename and os.path.exists(temp_filename):\n",
    "                os.remove(temp_filename)\n",
    "\n",
    "    else: # Download the whole audio as mp3\n",
    "        ydl_opts.update({\n",
    "            'postprocessors': [{\n",
    "                'key': 'FFmpegExtractAudio',\n",
    "                'preferredcodec': 'mp3',\n",
    "                'preferredquality': '192', # Standard MP3 quality\n",
    "            }],\n",
    "            'outtmpl': output_filename.replace('.mp3', ''), # yt-dlp adds the .mp3\n",
    "        })\n",
    "        try:\n",
    "            with yt_dlp.YoutubeDL(ydl_opts) as ydl:\n",
    "                ydl.download([video_url])\n",
    "            print(f\"Full audio saved as {output_filename}\")\n",
    "        except Exception as e:\n",
    "            print(f\"An error occurred: {e}\")\n"
   ]
  },
  {
   "cell_type": "code",
   "execution_count": 37,
   "metadata": {},
   "outputs": [
    {
     "name": "stdout",
     "output_type": "stream",
     "text": [
      "\n",
      "Downloading segment from 00:00:00 to 00:00:05...\n",
      "Audio segment saved as youtube_segment.mp3               \n"
     ]
    }
   ],
   "source": [
    "\n",
    "import os # For cleanup in the example\n",
    "\n",
    "video_url = \"https://www.youtube.com/watch?v=_znPZ7BeEFs&ab_channel=MasayoshiTakanaka-Topic\" # Replace with a valid YouTube URL\n",
    "\n",
    "# Example 1: Download a specific segment\n",
    "start_segment = \"00:00:00\"  # 10 seconds\n",
    "end_segment = \"00:00:05\"    # 30 seconds\n",
    "output_segment_filename = \"youtube_segment.mp3\"\n",
    "print(f\"\\nDownloading segment from {start_segment} to {end_segment}...\")\n",
    "download_youtube_audio_segment(video_url, start_segment, end_segment, output_segment_filename)\n",
    "\n",
    "# Example 2: Download the whole audio (default behavior if start/end are None)\n",
    "# output_full_filename = \"full_audio.mp3\"\n",
    "# print(f\"\\nDownloading full audio...\")\n",
    "# download_youtube_audio_segment(video_url, None, None, output_full_filename)\n",
    "\n",
    "# Example 3: Specify only start time (will download till the end from start_time)\n",
    "# Note: The current function structure requires both start and end for segmentation,\n",
    "# or neither for full download. To support only start_time and download till end,\n",
    "# you'd need to get video duration first and use that as end_time_str.\n",
    "# For simplicity, this example is omitted but can be added by fetching video duration using yt_dlp.\n",
    "\n",
    "# Example 4: Specify output filename for full download\n",
    "# custom_full_output = \"my_favorite_song_full.mp3\"\n",
    "# print(f\"\\nDownloading full audio to a custom filename...\")\n",
    "# download_youtube_audio_segment(video_url, None, None, custom_full_output)"
   ]
  },
  {
   "cell_type": "code",
   "execution_count": 3,
   "metadata": {},
   "outputs": [
    {
     "name": "stdout",
     "output_type": "stream",
     "text": [
      "{'client_id': Value(dtype='string', id=None), 'path': Value(dtype='string', id=None), 'audio': Audio(sampling_rate=48000, mono=True, decode=True, id=None), 'sentence': Value(dtype='string', id=None), 'up_votes': Value(dtype='int64', id=None), 'down_votes': Value(dtype='int64', id=None), 'age': Value(dtype='string', id=None), 'gender': Value(dtype='string', id=None), 'accent': Value(dtype='string', id=None), 'locale': Value(dtype='string', id=None), 'segment': Value(dtype='string', id=None), 'variant': Value(dtype='string', id=None)}\n"
     ]
    }
   ],
   "source": [
    "print(test_data.features)"
   ]
  },
  {
   "cell_type": "code",
   "execution_count": 4,
   "metadata": {},
   "outputs": [
    {
     "name": "stdout",
     "output_type": "stream",
     "text": [
      "Dataset({\n",
      "    features: ['client_id', 'path', 'audio', 'sentence', 'up_votes', 'down_votes', 'age', 'gender', 'accent', 'locale', 'segment', 'variant'],\n",
      "    num_rows: 855\n",
      "})\n"
     ]
    }
   ],
   "source": [
    "print(test_data)"
   ]
  },
  {
   "cell_type": "markdown",
   "metadata": {},
   "source": [
    "## Mix the data from two parts to test the performance with cool graphs"
   ]
  },
  {
   "cell_type": "code",
   "execution_count": 5,
   "metadata": {},
   "outputs": [
    {
     "name": "stdout",
     "output_type": "stream",
     "text": [
      "Selected 513 samples from test\n",
      "Selected 938 samples from other\n",
      "Total samples in final mixed dataset: 1451\n",
      "Dataset({\n",
      "    features: ['client_id', 'path', 'audio', 'sentence', 'up_votes', 'down_votes', 'age', 'gender', 'accent', 'locale', 'segment', 'variant'],\n",
      "    num_rows: 1451\n",
      "})\n"
     ]
    }
   ],
   "source": [
    "from datasets import load_dataset, concatenate_datasets\n",
    "\n",
    "# 1. Load your splits\n",
    "dataset_name = \"mozilla-foundation/common_voice_17_0\"\n",
    "language_code = \"gn\"\n",
    "split1_name = \"test\" \n",
    "split2_name = \"other\" # It has some audio that doesnt have as good quality\n",
    "\n",
    "split1_data = load_dataset(dataset_name, language_code, split=split1_name)\n",
    "split2_data = load_dataset(dataset_name, language_code, split=split2_name)\n",
    "\n",
    "# 2. Define the percentage you want from each split\n",
    "percentage_from_split1 = 0.6  #6% from test split\n",
    "percentage_from_split2 = 0.05  \n",
    "\n",
    "# 3. Calculate the number of samples for each percentage\n",
    "num_samples_split1 = int(len(split1_data) * percentage_from_split1)\n",
    "num_samples_split2 = int(len(split2_data) * percentage_from_split2)\n",
    "\n",
    "# 4. Select a random subset from each split\n",
    "# Shuffle first to ensure randomness, then select\n",
    "random_subset_split1 = split1_data.shuffle(seed=42).select(range(num_samples_split1))\n",
    "random_subset_split2 = split2_data.shuffle(seed=42).select(range(num_samples_split2))\n",
    "\n",
    "# 5. Concatenate the random subsets\n",
    "final_mixed_dataset = concatenate_datasets([random_subset_split1, random_subset_split2])\n",
    "\n",
    "# 6. (Optional) Shuffle the final combined dataset\n",
    "final_mixed_dataset_shuffled = final_mixed_dataset.shuffle(seed=42)\n",
    "\n",
    "print(f\"Selected {len(random_subset_split1)} samples from {split1_name}\")\n",
    "print(f\"Selected {len(random_subset_split2)} samples from {split2_name}\")\n",
    "print(f\"Total samples in final mixed dataset: {len(final_mixed_dataset_shuffled)}\")\n",
    "print(final_mixed_dataset_shuffled)"
   ]
  },
  {
   "cell_type": "code",
   "execution_count": null,
   "metadata": {},
   "outputs": [],
   "source": [
    "def calculate_average_noise_db(audio_data):\n",
    "    \"\"\"\n",
    "    Calculates the average signal level in dBFS for an audio clip.\n",
    "    Assumes audio_data is a NumPy array from the 'audio' field.\n",
    "    \"\"\"\n",
    "    samples = audio_data['array'] # Extract the numpy array\n",
    "    if len(samples) == 0:\n",
    "        return -np.inf # Or some other indicator for silence or error\n",
    "    \n",
    "    # Calculate RMS energy\n",
    "    rms_energy = np.sqrt(np.mean(samples**2))\n",
    "    \n",
    "    # Convert RMS to dBFS (assuming samples are normalized between -1 and 1)\n",
    "    # If RMS is 0 (silence), log10 will be undefined, handle this.\n",
    "    if rms_energy == 0:\n",
    "        return -np.inf # Represents negative infinity dB, common for silence\n",
    "    \n",
    "    dbfs = 20 * np.log10(rms_energy)\n",
    "    return dbfs\n",
    "\n",
    "# Apply the function to your dataset\n",
    "# This will add a new column 'average_noise_db' to each example\n",
    "updated_data = test_data.map(lambda example: {'average_noise_db': calculate_average_noise_db(example['audio'])})\n",
    "\n",
    "# Now updated_data has the new column\n",
    "print(updated_data.features)\n",
    "# You should see 'average_noise_db': Value(dtype='float64', id=None) or similar\n",
    "\n",
    "# To separate files into \"buckets\":\n",
    "# You can then filter or sort 'updated_data' based on the 'average_noise_db' column.\n",
    "# For example, to get all files with noise between -40 dB and -30 dB:\n",
    "# bucket_1 = updated_data.filter(lambda example: -40 < example['average_noise_db'] <= -30)"
   ]
  }
 ],
 "metadata": {
  "accelerator": "GPU",
  "colab": {
   "gpuType": "T4",
   "provenance": []
  },
  "kernelspec": {
   "display_name": "Python 3 (ipykernel)",
   "language": "python",
   "name": "python3"
  },
  "language_info": {
   "codemirror_mode": {
    "name": "ipython",
    "version": 3
   },
   "file_extension": ".py",
   "mimetype": "text/x-python",
   "name": "python",
   "nbconvert_exporter": "python",
   "pygments_lexer": "ipython3",
   "version": "3.13.3"
  }
 },
 "nbformat": 4,
 "nbformat_minor": 4
}
